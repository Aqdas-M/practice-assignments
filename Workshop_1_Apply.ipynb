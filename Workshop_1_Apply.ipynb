{
 "cells": [
  {
   "cell_type": "markdown",
   "id": "9ca780e6-4777-4af4-a3f3-e1444e016768",
   "metadata": {},
   "source": [
    "# Workshop 1 - Apply\n",
    "    \n",
    "In this notebook you will work on a homework assignment involving a Vierendeel frame."
   ]
  },
  {
   "cell_type": "markdown",
   "id": "568856ef",
   "metadata": {},
   "source": [
    "Our matrix method implementation is now completely stored in a local package, consisting of three classes."
   ]
  },
  {
   "cell_type": "markdown",
   "id": "aa647b73-f511-4581-a3c4-15f7a8228267",
   "metadata": {},
   "source": [
    "## Vierendeel frame"
   ]
  },
  {
   "cell_type": "markdown",
   "id": "09883360-5e5b-4a00-bb00-bd7431fa0bb2",
   "metadata": {},
   "source": [
    "<center><figure>\n",
    "  <IMG SRC=\"https://raw.githubusercontent.com/ibcmrocha/public/main/vierendeel.png\" WIDTH=400 ALIGN=\"center\">\n",
    "      </figure></center>\n",
    "\n",
    "With:\n",
    "\n",
    "- $h = 1$\n",
    "- $b = 1$\n",
    "- $EI_r = 10000$\n",
    "- $EI_k = 1000$\n",
    "- $EA  = 1\\cdot 10^{10}$\n",
    "- $H = 100$\n"
   ]
  },
  {
   "cell_type": "markdown",
   "id": "8c2a2cb4-69b8-4068-95d7-a716fa34bdc7",
   "metadata": {},
   "source": [
    "In the first half of this course last quarter, you have learned that the deformation of Vierendeel frames (an example of which is shown above) can be obtained in a simplified way by assuming the global deformation can be described by a shear beam with equivalent stiffness given by:\n",
    "\n",
    "$$\n",
    "k = \\frac{24}{h\\left(\\displaystyle\\frac{h}{EI_k}+\\frac{b}{EI_r}\\right)}\n",
    "$$\n",
    "\n",
    "Now that you have the tools to solve the original frame problem using the Matrix Method, your task in this assignment is to investigate the validity of this equivalent shear beam model.\n",
    "\n",
    "Note that the checks only had a single element. For this model you need to obtain $\\mathbf{K}$ and $\\mathbf{f}$ of all elements and add them to the correct locations in the global stiffness matrix and force vector. To do that, make use of the `global_dofs` function of the Element class and the `np.ix_` Numpy utility function. (Tip: refer back to what you did in the `constrain` function).\n",
    "\n",
    "Once you have a solution, use SymPy / Maple / pen and paper to solve a shear beam problem with the equivalent stiffness given above (It is very similar to the simple extension problem above) and compare the horizontal displacement at the point of application of $H$ for the two models.\n",
    "\n",
    "Investigate how the two models compare for different values of $EA$, ranging from very small (*e.g.* $1\\cdot 10^{-5}$) to very large (*e.g.* $1\\cdot10^{10}$). What explains the behavior you observe?"
   ]
  },
  {
   "cell_type": "code",
   "execution_count": 100,
   "id": "d38dc240",
   "metadata": {},
   "outputs": [],
   "source": [
    "import numpy as np\n",
    "import matrixmethod as mm\n",
    "%config InlineBackend.figure_formats = ['svg']"
   ]
  },
  {
   "cell_type": "code",
   "execution_count": 101,
   "id": "e9456735-d5b2-4f9e-b7c5-e8ef69077468",
   "metadata": {},
   "outputs": [],
   "source": [
    "mm.Node.clear()\n",
    "mm.Element.clear()"
   ]
  },
  {
   "cell_type": "code",
   "execution_count": 102,
   "id": "4e69856b",
   "metadata": {},
   "outputs": [],
   "source": [
    "#YOUR CODE HERE\n",
    "node1 = mm.Node(0, 0)\n",
    "node2 = mm.Node(1, 0)\n",
    "node3 = mm.Node(0, -1)\n",
    "node4 = mm.Node(1, -1)\n",
    "nodes = [node1, node2, node3, node4]\n",
    "elem1 = mm.Element(node1, node2)\n",
    "elem2 = mm.Element(node4, node2)\n",
    "elem3 = mm.Element(node3, node4)\n",
    "elem4 = mm.Element(node3, node1)\n",
    "elems = [elem1, elem2, elem3, elem4]\n",
    "section_r = {}\n",
    "section_r['EI'] = 10000\n",
    "section_k = {}\n",
    "section_k['EI'] = 1000\n",
    "section_k['EA'] = section_r['EA'] = 10e10\n",
    "elems[0].set_section(section_r)\n",
    "elems[2].set_section(section_r)\n",
    "elems[1].set_section(section_k)\n",
    "elems[3].set_section(section_k)"
   ]
  },
  {
   "cell_type": "code",
   "execution_count": 103,
   "id": "c5518574-b460-47a1-8537-cd45bd9451e2",
   "metadata": {},
   "outputs": [
    {
     "name": "stdout",
     "output_type": "stream",
     "text": [
      "The Shape of Global matrix is (12, 12)\n",
      "This constrainer has constrained the degrees of freedom: [0, 1, 3, 4] with corresponding constrained values: [0, 0, 0, 0])\n"
     ]
    }
   ],
   "source": [
    "global_k = np.zeros((len(nodes)*3, len(nodes)*3))\n",
    "global_f = np.zeros(len(nodes)*3)\n",
    "H = 100\n",
    "global_f[8] = H\n",
    "for elem in elems:\n",
    "    elmat = elem.stiffness()\n",
    "    idofs = elem.global_dofs()\n",
    "    global_k[np.ix_(idofs, idofs)] += elmat\n",
    "print(f'The Shape of Global matrix is {global_k.shape}')\n",
    "\n",
    "con = mm.Constrainer()\n",
    "for node in nodes:\n",
    "    if node in [nodes[0], nodes[1]]:\n",
    "        con.fix_dof(node, 0)\n",
    "        con.fix_dof(node, 1)\n",
    "print(con)\n",
    "node3.add_load([H, 0, 0])"
   ]
  },
  {
   "cell_type": "code",
   "execution_count": 104,
   "id": "e8113fb3",
   "metadata": {},
   "outputs": [
    {
     "name": "stdout",
     "output_type": "stream",
     "text": [
      "The Shape of reduced matrix is (8, 8)\n",
      " u = [-1.61384372e-04  1.88266112e-04  4.16667025e-04  9.83871416e-10\n",
      "  2.91779614e-03  4.16666909e-04  7.66806268e-10 -1.27801001e-03]\n",
      "The top-left horizontal displacement is 0.00041666702467128456\n"
     ]
    }
   ],
   "source": [
    "Kff , Ff = con.constrain(global_k, global_f)\n",
    "print(f'The Shape of reduced matrix is {Kff.shape}')\n",
    "u = np.linalg.solve(Kff, Ff)\n",
    "print(f' u = {u}')\n",
    "print(f'The top-left horizontal displacement is {u[2]}')"
   ]
  },
  {
   "cell_type": "code",
   "execution_count": null,
   "id": "9f2b20cd",
   "metadata": {},
   "outputs": [
    {
     "name": "stdout",
     "output_type": "stream",
     "text": [
      "Eq(w(x), C1 + C2*x)\n",
      "Eq(w(x), C1 + C2*x)\n",
      "C1 + C2*x\n",
      "C1 + C2*x\n",
      "C1 + C2*x\n"
     ]
    }
   ],
   "source": [
    "#provided in case you want to solve the shear beam problem using SymPy\n",
    "import sympy as sym\n",
    "x, k, L, H = sym.symbols('x, k, L, H')\n",
    "w = sym.Function('w')\n",
    "\n",
    "ODE_shear = sym.Eq(sym.diff(w(x), x, x), 0)\n",
    "ODE_shear_sol = sym.dsolve(ODE_shear)\n",
    "print(ODE_shear_sol)\n",
    "boundary_conditions = [sym.Eq(w(0), 0), sym.Eq(k * sym.diff(w(x), x).subs(x, L), H)]\n",
    "constants = sym.solve(boundary_conditions)\n",
    "ODE_shear_sol = ODE_shear_sol.subs(constants)\n"
   ]
  },
  {
   "cell_type": "code",
   "execution_count": null,
   "id": "fbb5e5d7",
   "metadata": {},
   "outputs": [],
   "source": []
  }
 ],
 "metadata": {
  "kernelspec": {
   "display_name": "base",
   "language": "python",
   "name": "python3"
  },
  "language_info": {
   "codemirror_mode": {
    "name": "ipython",
    "version": 3
   },
   "file_extension": ".py",
   "mimetype": "text/x-python",
   "name": "python",
   "nbconvert_exporter": "python",
   "pygments_lexer": "ipython3",
   "version": "3.12.4"
  }
 },
 "nbformat": 4,
 "nbformat_minor": 5
}
